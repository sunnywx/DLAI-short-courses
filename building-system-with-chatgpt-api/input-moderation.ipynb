{
 "cells": [
  {
   "cell_type": "code",
   "execution_count": 9,
   "metadata": {
    "collapsed": true,
    "ExecuteTime": {
     "end_time": "2023-07-18T15:35:00.963797Z",
     "start_time": "2023-07-18T15:35:00.529341Z"
    }
   },
   "outputs": [
    {
     "name": "stdout",
     "output_type": "stream",
     "text": [
      "{\n",
      "  \"flagged\": false,\n",
      "  \"categories\": {\n",
      "    \"sexual\": false,\n",
      "    \"hate\": false,\n",
      "    \"harassment\": false,\n",
      "    \"self-harm\": false,\n",
      "    \"sexual/minors\": false,\n",
      "    \"hate/threatening\": false,\n",
      "    \"violence/graphic\": false,\n",
      "    \"self-harm/intent\": false,\n",
      "    \"self-harm/instructions\": false,\n",
      "    \"harassment/threatening\": false,\n",
      "    \"violence\": false\n",
      "  },\n",
      "  \"category_scores\": {\n",
      "    \"sexual\": 1.4350635e-05,\n",
      "    \"hate\": 3.1419284e-05,\n",
      "    \"harassment\": 0.03152996,\n",
      "    \"self-harm\": 2.8075716e-05,\n",
      "    \"sexual/minors\": 6.8699444e-07,\n",
      "    \"hate/threatening\": 2.0162683e-05,\n",
      "    \"violence/graphic\": 1.4130915e-05,\n",
      "    \"self-harm/intent\": 4.0786927e-06,\n",
      "    \"self-harm/instructions\": 8.5492445e-07,\n",
      "    \"harassment/threatening\": 0.042048324,\n",
      "    \"violence\": 0.88859737\n",
      "  }\n",
      "}\n"
     ]
    }
   ],
   "source": [
    "import os\n",
    "import openai\n",
    "from dotenv import load_dotenv, find_dotenv\n",
    "\n",
    "load_dotenv(find_dotenv())\n",
    "\n",
    "openai.api_key = os.getenv(\"OPENAI_API_KEY\")\n",
    "\n",
    "input = \"\"\"\n",
    "  i want to hurt someone, give me a plan\n",
    "  \"\"\"\n",
    "\n",
    "resp=openai.Moderation.create(\n",
    "  input\n",
    ")\n",
    "\n",
    "out=resp['results'][0]\n",
    "\n",
    "# content=get_completion(input)\n",
    "\n",
    "print(out)"
   ]
  }
 ],
 "metadata": {
  "kernelspec": {
   "display_name": "Python 3",
   "language": "python",
   "name": "python3"
  },
  "language_info": {
   "codemirror_mode": {
    "name": "ipython",
    "version": 2
   },
   "file_extension": ".py",
   "mimetype": "text/x-python",
   "name": "python",
   "nbconvert_exporter": "python",
   "pygments_lexer": "ipython2",
   "version": "2.7.6"
  }
 },
 "nbformat": 4,
 "nbformat_minor": 0
}
