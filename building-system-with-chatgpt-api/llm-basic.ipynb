{
 "cells": [
  {
   "cell_type": "code",
   "execution_count": 12,
   "metadata": {
    "ExecuteTime": {
     "end_time": "2023-07-18T15:25:46.050247Z",
     "start_time": "2023-07-18T15:25:46.043751Z"
    }
   },
   "outputs": [],
   "source": [
    "import os\n",
    "import openai\n",
    "from dotenv import load_dotenv, find_dotenv\n",
    "\n",
    "load_dotenv(find_dotenv())\n",
    "\n",
    "openai.api_key = os.getenv(\"OPENAI_API_KEY\")\n",
    "\n",
    "def get_completion(prompt, system_prompt=\"\", model='gpt-3.5-turbo', temperature=0):\n",
    "    messages = [\n",
    "        {'role': 'user', 'content': prompt},\n",
    "        {'role': 'system', 'content': system_prompt},\n",
    "    ]\n",
    "    response = openai.ChatCompletion.create(\n",
    "        model=model,\n",
    "        messages=messages,\n",
    "        temperature=temperature\n",
    "    )\n",
    "    content = response.choices[0].message['content']\n",
    "    # token_dict = response['usage']\n",
    "    return content"
   ]
  },
  {
   "cell_type": "code",
   "execution_count": 17,
   "metadata": {
    "ExecuteTime": {
     "end_time": "2023-07-18T15:28:11.591697Z",
     "start_time": "2023-07-18T15:28:09.670878Z"
    }
   },
   "outputs": [
    {
     "name": "stdout",
     "output_type": "stream",
     "text": [
      "China's economy in 2023 is projected to continue growing steadily, driven by domestic consumption and technological advancements.\n"
     ]
    }
   ],
   "source": [
    "'''remove secondary param and try'''\n",
    "resp = get_completion(\"how about china's economy in 2023\", \"all your response should be one sentence long\")\n",
    "print(resp)"
   ]
  },
  {
   "cell_type": "code",
   "execution_count": 16,
   "metadata": {
    "ExecuteTime": {
     "end_time": "2023-07-18T15:26:23.622840Z",
     "start_time": "2023-07-18T15:26:21.444590Z"
    }
   },
   "outputs": [
    {
     "name": "stdout",
     "output_type": "stream",
     "text": [
      "The reversed letters in \"l-o-l-l-i-p-o-p\" would be \"p-o-p-i-l-l-o-l\".\n"
     ]
    }
   ],
   "source": [
    "# resp=get_completion(\"take the letter in lollipop and reverse them\")\n",
    "resp=get_completion(\"take the letter in l-o-l-l-i-p-o-p and reverse them\")\n",
    "print(resp)"
   ]
  }
 ],
 "metadata": {
  "kernelspec": {
   "display_name": "Python 3 (ipykernel)",
   "language": "python",
   "name": "python3"
  },
  "language_info": {
   "codemirror_mode": {
    "name": "ipython",
    "version": 3
   },
   "file_extension": ".py",
   "mimetype": "text/x-python",
   "name": "python",
   "nbconvert_exporter": "python",
   "pygments_lexer": "ipython3",
   "version": "3.10.12"
  }
 },
 "nbformat": 4,
 "nbformat_minor": 1
}
